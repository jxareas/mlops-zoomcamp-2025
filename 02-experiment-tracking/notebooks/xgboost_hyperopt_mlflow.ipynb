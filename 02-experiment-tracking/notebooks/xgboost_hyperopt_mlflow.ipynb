{
 "cells": [
  {
   "cell_type": "code",
   "id": "initial_id",
   "metadata": {
    "collapsed": true
   },
   "source": [
    "from pathlib import Path\n",
    "\n",
    "import mlflow\n",
    "import pandas as pd\n",
    "import seaborn as sns\n",
    "import xgboost as xgb\n",
    "from hyperopt import fmin, tpe, hp, STATUS_OK, Trials\n",
    "from hyperopt.pyll import scope\n",
    "from sklearn.feature_extraction import DictVectorizer\n",
    "from sklearn.metrics import root_mean_squared_error\n",
    "\n",
    "sns.set_theme()\n",
    "pd.options.mode.copy_on_write = True\n",
    "\n",
    "TRAIN_DATA_FILE_PATH = '../data/green_tripdata_2021-01.parquet'\n",
    "VAL_DATA_FILE_PATH = '../data/green_tripdata_2021-02.parquet'"
   ],
   "outputs": [],
   "execution_count": null
  },
  {
   "metadata": {},
   "cell_type": "code",
   "source": [
    "# Setting backend store URI and artifact location\n",
    "home_path_str = Path.home()\n",
    "backend_store_uri = f'sqlite:///{home_path_str}/mlflow/backend/mlflow.db'\n",
    "artifact_location = f'file:{home_path_str}/mlflow/mlruns'\n",
    "\n",
    "# Setting backend store\n",
    "mlflow.set_tracking_uri(uri=backend_store_uri)\n",
    "\n",
    "# Setting experiment name\n",
    "experiment_name = \"green-taxi-nyc-trip-duration\"\n",
    "experiment = mlflow.get_experiment_by_name(experiment_name)\n",
    "\n",
    "if experiment is None:\n",
    "    experiment_id = mlflow.create_experiment(\n",
    "        name=experiment_name,\n",
    "        artifact_location=artifact_location\n",
    "    )\n",
    "mlflow.set_experiment(experiment_name=experiment_name)"
   ],
   "id": "a29ca5a076727362",
   "outputs": [],
   "execution_count": null
  },
  {
   "metadata": {},
   "cell_type": "code",
   "source": [
    "def read_dataframe(filename):\n",
    "    if filename.endswith('.csv'):\n",
    "        green_taxi_trips = pd.read_csv(filename)\n",
    "\n",
    "        green_taxi_trips['lpep_dropoff_datetime'] = pd.to_datetime(green_taxi_trips['lpep_dropoff_datetime'])\n",
    "        green_taxi_trips['lpep_pickup_datetime'] = pd.to_datetime(green_taxi_trips['lpep_pickup_datetime'])\n",
    "    elif filename.endswith('.parquet'):\n",
    "        green_taxi_trips = pd.read_parquet(filename)\n",
    "\n",
    "    green_taxi_trips['duration'] = green_taxi_trips['lpep_dropoff_datetime'] - green_taxi_trips['lpep_pickup_datetime']\n",
    "    green_taxi_trips['duration'] = green_taxi_trips['duration'].apply(lambda td: td.total_seconds() / 60)\n",
    "\n",
    "    green_taxi_trips = green_taxi_trips[(green_taxi_trips['duration'] >= 1) & (green_taxi_trips['duration'] <= 60)]\n",
    "\n",
    "    categorical_vars = ['PULocationID', 'DOLocationID']\n",
    "    green_taxi_trips[categorical_vars] = green_taxi_trips[categorical_vars].astype(str)\n",
    "\n",
    "    return green_taxi_trips\n",
    "\n",
    "\n",
    "df_train = read_dataframe(TRAIN_DATA_FILE_PATH)\n",
    "df_val = read_dataframe(VAL_DATA_FILE_PATH)"
   ],
   "id": "3b0e7a430ca26f6f",
   "outputs": [],
   "execution_count": null
  },
  {
   "metadata": {},
   "cell_type": "code",
   "source": [
    "categorical = ['PU_DO']  #'PULocationID', 'DOLocationID']\n",
    "numerical = ['trip_distance']\n",
    "\n",
    "df_train['PU_DO'] = df_train['PULocationID'] + '_' + df_train['DOLocationID']\n",
    "df_val['PU_DO'] = df_val['PULocationID'] + '_' + df_val['DOLocationID']\n",
    "\n",
    "dv = DictVectorizer()\n",
    "\n",
    "train_dicts = df_train[categorical + numerical].to_dict(orient='records')\n",
    "X_train = dv.fit_transform(train_dicts)\n",
    "\n",
    "val_dicts = df_val[categorical + numerical].to_dict(orient='records')\n",
    "X_val = dv.transform(val_dicts)\n",
    "\n",
    "target = 'duration'\n",
    "y_train = df_train[target].values\n",
    "y_val = df_val[target].values"
   ],
   "id": "c25a7363630422b0",
   "outputs": [],
   "execution_count": null
  },
  {
   "metadata": {},
   "cell_type": "code",
   "source": [
    "train = xgb.DMatrix(X_train, label=y_train)\n",
    "valid = xgb.DMatrix(X_val, label=y_val)"
   ],
   "id": "246ebc438b3dd3ab",
   "outputs": [],
   "execution_count": null
  },
  {
   "metadata": {},
   "cell_type": "code",
   "source": [
    "def objective(params):\n",
    "    with mlflow.start_run():\n",
    "        mlflow.set_tag(\"model\", \"xgboost\")\n",
    "        mlflow.log_params(params)\n",
    "        booster = xgb.train(\n",
    "            params=params,\n",
    "            dtrain=train,\n",
    "            num_boost_round=1000,\n",
    "            evals=[(valid, 'validation')],\n",
    "            early_stopping_rounds=50\n",
    "        )\n",
    "        y_pred = booster.predict(valid)\n",
    "        rmse = root_mean_squared_error(y_val, y_pred)\n",
    "        mlflow.log_metric(\"rmse\", rmse)\n",
    "\n",
    "    return {'loss': rmse, 'status': STATUS_OK}"
   ],
   "id": "304581711bec5c80",
   "outputs": [],
   "execution_count": null
  },
  {
   "metadata": {},
   "cell_type": "code",
   "source": [
    "search_space = {\n",
    "    'max_depth': scope.int(hp.quniform('max_depth', 4, 100, 1)),\n",
    "    'learning_rate': hp.loguniform('learning_rate', -3, 0),\n",
    "    'reg_alpha': hp.loguniform('reg_alpha', -5, -1),\n",
    "    'reg_lambda': hp.loguniform('reg_lambda', -6, -1),\n",
    "    'min_child_weight': hp.loguniform('min_child_weight', -1, 3),\n",
    "    'objective': 'reg:linear',\n",
    "    'seed': 42\n",
    "}\n",
    "\n",
    "best_result = fmin(\n",
    "    fn=objective,\n",
    "    space=search_space,\n",
    "    algo=tpe.suggest,\n",
    "    max_evals=50,\n",
    "    trials=Trials()\n",
    ")"
   ],
   "id": "ab1b3d2fbc040018",
   "outputs": [],
   "execution_count": null
  },
  {
   "metadata": {},
   "cell_type": "code",
   "source": [
    "best_params = {\n",
    "    'learning_rate': 0.09585355369315604,\n",
    "    'max_depth': 30,\n",
    "    'min_child_weight': 1.060597050922164,\n",
    "    'objective': 'reg:linear',\n",
    "    'reg_alpha': 0.018060244040060163,\n",
    "    'reg_lambda': 0.011658731377413597,\n",
    "    'seed': 42\n",
    "}\n",
    "\n",
    "mlflow.xgboost.autolog()\n",
    "\n",
    "booster = xgb.train(\n",
    "    params=best_params,\n",
    "    dtrain=train,\n",
    "    num_boost_round=1000,\n",
    "    evals=[(valid, 'validation')],\n",
    "    early_stopping_rounds=50\n",
    ")"
   ],
   "id": "d62da0d36b775abe",
   "outputs": [],
   "execution_count": null
  }
 ],
 "metadata": {
  "kernelspec": {
   "display_name": "Python 3",
   "language": "python",
   "name": "python3"
  },
  "language_info": {
   "codemirror_mode": {
    "name": "ipython",
    "version": 2
   },
   "file_extension": ".py",
   "mimetype": "text/x-python",
   "name": "python",
   "nbconvert_exporter": "python",
   "pygments_lexer": "ipython2",
   "version": "2.7.6"
  }
 },
 "nbformat": 4,
 "nbformat_minor": 5
}
