{
 "cells": [
  {
   "cell_type": "code",
   "id": "initial_id",
   "metadata": {
    "collapsed": true,
    "ExecuteTime": {
     "end_time": "2025-05-27T06:47:32.571015Z",
     "start_time": "2025-05-27T06:47:32.565968Z"
    }
   },
   "source": [
    "import mlflow\n",
    "from mlflow import MlflowClient\n",
    "from mlflow.entities import ViewType\n",
    "from pathlib import Path"
   ],
   "outputs": [],
   "execution_count": 7
  },
  {
   "metadata": {
    "ExecuteTime": {
     "end_time": "2025-05-27T06:43:53.263152Z",
     "start_time": "2025-05-27T06:43:52.920149Z"
    }
   },
   "cell_type": "code",
   "source": [
    "home_path_str = Path.home()\n",
    "mlflow_tracking_uri = f'sqlite:///{home_path_str}/mlflow/backend/mlflow.db'\n",
    "\n",
    "client = MlflowClient(tracking_uri=mlflow_tracking_uri)"
   ],
   "id": "20d4cd00c2a44061",
   "outputs": [],
   "execution_count": 3
  },
  {
   "metadata": {
    "ExecuteTime": {
     "end_time": "2025-05-27T06:45:06.240526Z",
     "start_time": "2025-05-27T06:45:06.228405Z"
    }
   },
   "cell_type": "code",
   "source": "client.search_experiments()",
   "id": "a1b3c1e5d6e45b10",
   "outputs": [
    {
     "data": {
      "text/plain": [
       "[<Experiment: artifact_location='file:/home/jxareas/mlflow/artifacts', creation_time=1748245057181, experiment_id='1', last_update_time=1748245057181, lifecycle_stage='active', name='green-taxi-nyc-trip-duration', tags={}>,\n",
       " <Experiment: artifact_location='/home/jxareas/mlflow/artifacts/0', creation_time=1748243818686, experiment_id='0', last_update_time=1748243818686, lifecycle_stage='active', name='Default', tags={}>]"
      ]
     },
     "execution_count": 5,
     "metadata": {},
     "output_type": "execute_result"
    }
   ],
   "execution_count": 5
  },
  {
   "metadata": {
    "ExecuteTime": {
     "end_time": "2025-05-27T06:45:46.222419Z",
     "start_time": "2025-05-27T06:45:46.199329Z"
    }
   },
   "cell_type": "code",
   "source": "client.create_experiment(name='my-cool-dummy-experiment')",
   "id": "6cab7a6cc1877070",
   "outputs": [
    {
     "data": {
      "text/plain": [
       "'2'"
      ]
     },
     "execution_count": 6,
     "metadata": {},
     "output_type": "execute_result"
    }
   ],
   "execution_count": 6
  },
  {
   "metadata": {
    "ExecuteTime": {
     "end_time": "2025-05-27T06:51:37.837379Z",
     "start_time": "2025-05-27T06:51:37.817849Z"
    }
   },
   "cell_type": "code",
   "source": [
    "runs = client.search_runs(\n",
    "    experiment_ids=['1'],\n",
    "    filter_string='metrics.rmse < 6.36',\n",
    "    run_view_type=ViewType.ACTIVE_ONLY,\n",
    "    max_results=5,\n",
    "    order_by=['metrics.rmse ASC']\n",
    ")\n",
    "for run in runs:\n",
    "    print(f'{run.info.run_id=} {run.data.metrics['rmse']=:.4f}')"
   ],
   "id": "8dd5ec2ff5c3727a",
   "outputs": [
    {
     "name": "stdout",
     "output_type": "stream",
     "text": [
      "run.info.run_id='f4618e47bc5a4c978bce795fd18b1e40' run.data.metrics['rmse']=6.3184\n",
      "run.info.run_id='207fd717ca464e3084d2499fe2e78c81' run.data.metrics['rmse']=6.3184\n",
      "run.info.run_id='afc971f967be4094a381cb51ba91c299' run.data.metrics['rmse']=6.3184\n",
      "run.info.run_id='1a1d82af7002463ca8e9d73f74702b8c' run.data.metrics['rmse']=6.3591\n"
     ]
    }
   ],
   "execution_count": 16
  },
  {
   "metadata": {
    "ExecuteTime": {
     "end_time": "2025-05-27T06:57:47.422341Z",
     "start_time": "2025-05-27T06:57:47.396812Z"
    }
   },
   "cell_type": "code",
   "source": "client.search_registered_models()",
   "id": "141907f2062cbd99",
   "outputs": [
    {
     "data": {
      "text/plain": [
       "[<RegisteredModel: aliases={'champion': 1}, creation_timestamp=1748327500776, description='', last_updated_timestamp=1748329059498, latest_versions=[<ModelVersion: aliases=[], creation_timestamp=1748327500819, current_stage='None', description='Regressor which predicts green taxi trip durations from New York City.', last_updated_timestamp=1748329059498, name='green-taxi-trip-duration-regressor', run_id='5971a97b98f84aeba64be6bab8e31309', run_link='', source='file:///home/jxareas/mlflow/artifacts/5971a97b98f84aeba64be6bab8e31309/artifacts/model', status='READY', status_message=None, tags={'model': 'xgboost'}, user_id=None, version=1>], name='green-taxi-trip-duration-regressor', tags={}>]"
      ]
     },
     "execution_count": 25,
     "metadata": {},
     "output_type": "execute_result"
    }
   ],
   "execution_count": 25
  },
  {
   "metadata": {
    "ExecuteTime": {
     "end_time": "2025-05-27T07:00:03.793312Z",
     "start_time": "2025-05-27T07:00:03.782486Z"
    }
   },
   "cell_type": "code",
   "source": [
    "latest_versions = client.get_latest_versions(name='green-taxi-trip-duration-regressor')\n",
    "latest_versions"
   ],
   "id": "f7f00fa3127393de",
   "outputs": [
    {
     "name": "stderr",
     "output_type": "stream",
     "text": [
      "/tmp/ipykernel_23081/958345885.py:1: FutureWarning: ``mlflow.tracking.client.MlflowClient.get_latest_versions`` is deprecated since 2.9.0. Model registry stages will be removed in a future major release. To learn more about the deprecation of model registry stages, see our migration guide here: https://mlflow.org/docs/latest/model-registry.html#migrating-from-stages\n",
      "  latest_versions = client.get_latest_versions(name='green-taxi-trip-duration-regressor')\n"
     ]
    },
    {
     "data": {
      "text/plain": [
       "[<ModelVersion: aliases=['champion'], creation_timestamp=1748327500819, current_stage='None', description='Regressor which predicts green taxi trip durations from New York City.', last_updated_timestamp=1748329059498, name='green-taxi-trip-duration-regressor', run_id='5971a97b98f84aeba64be6bab8e31309', run_link='', source='file:///home/jxareas/mlflow/artifacts/5971a97b98f84aeba64be6bab8e31309/artifacts/model', status='READY', status_message=None, tags={'model': 'xgboost'}, user_id=None, version=1>]"
      ]
     },
     "execution_count": 29,
     "metadata": {},
     "output_type": "execute_result"
    }
   ],
   "execution_count": 29
  }
 ],
 "metadata": {
  "kernelspec": {
   "display_name": "Python 3",
   "language": "python",
   "name": "python3"
  },
  "language_info": {
   "codemirror_mode": {
    "name": "ipython",
    "version": 2
   },
   "file_extension": ".py",
   "mimetype": "text/x-python",
   "name": "python",
   "nbconvert_exporter": "python",
   "pygments_lexer": "ipython2",
   "version": "2.7.6"
  }
 },
 "nbformat": 4,
 "nbformat_minor": 5
}
