{
 "cells": [
  {
   "metadata": {},
   "cell_type": "markdown",
   "source": [
    "# Homework 2 - Experiment Tracking & Model Management\n",
    "\n",
    "The goal of this homework is to get familiar with MLflow, the tool for experiment tracking and\n",
    "model management."
   ],
   "id": "7a79f0092d9926e3"
  },
  {
   "metadata": {},
   "cell_type": "markdown",
   "source": [
    "## Q1. Install MLflow\n",
    "\n",
    "To get started with MLflow you'll need to install the MLflow Python package.\n",
    "\n",
    "For this we recommend creating a separate Python environment, for example, you can use [conda environments](https://docs.conda.io/projects/conda/en/latest/user-guide/getting-started.html#managing-envs), and then install the package there with `pip` or `conda`.\n",
    "\n",
    "Once you installed the package, run the command `mlflow --version` and check the output.\n",
    "\n",
    "What's the version that you have?"
   ],
   "id": "4df91491a0583c47"
  },
  {
   "metadata": {
    "ExecuteTime": {
     "end_time": "2025-05-27T08:01:14.693403Z",
     "start_time": "2025-05-27T08:01:13.499414Z"
    }
   },
   "cell_type": "code",
   "source": [
    "import mlflow\n",
    "\n",
    "print(mlflow.__version__)"
   ],
   "id": "efce8767ecce7c04",
   "outputs": [
    {
     "name": "stdout",
     "output_type": "stream",
     "text": [
      "2.22.0\n"
     ]
    }
   ],
   "execution_count": 14
  },
  {
   "metadata": {},
   "cell_type": "markdown",
   "source": [
    "## Q2. Download and preprocess the data\n",
    "\n",
    "We'll use the Yellow Taxi Trip Records dataset to predict the duration of each trip.\n",
    "\n",
    "Download the data for January, February and March 2023 in parquet format from [here](https://www1.nyc.gov/site/tlc/about/tlc-trip-record-data.page).\n",
    "\n",
    "Use the script `preprocess_data.py` located in the folder [`homework`](homework2) to preprocess the data.\n",
    "\n",
    "The script will:\n",
    "\n",
    "* load the data from the folder `<TAXI_DATA_FOLDER>` (the folder where you have downloaded the data),\n",
    "* fit a `DictVectorizer` on the training set (January 2023 data),\n",
    "* save the preprocessed datasets and the `DictVectorizer` to disk.\n",
    "\n",
    "Your task is to download the datasets and then execute this command:\n",
    "\n",
    "```\n",
    "python preprocess_data.py --raw_data_path <TAXI_DATA_FOLDER> --dest_path ./output\n",
    "```\n",
    "\n",
    "Tip: go to `02-experiment-tracking/homework/` folder before executing the command and change the value of `<TAXI_DATA_FOLDER>` to the location where you saved the data.\n",
    "\n",
    "How many files were saved to `OUTPUT_FOLDER`?\n",
    "\n",
    "* 1\n",
    "* 3\n",
    "* 4\n",
    "* 7"
   ],
   "id": "c3a93f5d3711c5c6"
  },
  {
   "metadata": {
    "ExecuteTime": {
     "end_time": "2025-05-27T07:54:12.265686Z",
     "start_time": "2025-05-27T07:54:11.306809Z"
    }
   },
   "cell_type": "code",
   "source": "%run preprocess_data.py --raw_data_path ../data --dest_path ./output",
   "id": "3911057b4003b4f9",
   "outputs": [],
   "execution_count": 10
  },
  {
   "metadata": {
    "ExecuteTime": {
     "end_time": "2025-05-27T07:56:43.649563Z",
     "start_time": "2025-05-27T07:56:43.644205Z"
    }
   },
   "cell_type": "code",
   "source": [
    "from pathlib import Path\n",
    "\n",
    "output_dir = Path('./output')\n",
    "\n",
    "file_count = len([f for f in output_dir.iterdir() if f.is_file()])\n",
    "print(f\"Number of files: {file_count}\")"
   ],
   "id": "1b836d90b0e2f2d5",
   "outputs": [
    {
     "name": "stdout",
     "output_type": "stream",
     "text": [
      "Number of files: 4\n"
     ]
    }
   ],
   "execution_count": 12
  },
  {
   "metadata": {},
   "cell_type": "markdown",
   "source": [
    "## Q3. Train a model with autolog\n",
    "\n",
    "We will train a `RandomForestRegressor` (from Scikit-Learn) on the taxi dataset.\n",
    "\n",
    "We have prepared the training script `train.py` for this exercise, which can be also found in the folder [`homework`](homework2).\n",
    "\n",
    "The script will:\n",
    "\n",
    "* load the datasets produced by the previous step,\n",
    "* train the model on the training set,\n",
    "* calculate the RMSE score on the validation set.\n",
    "\n",
    "Your task is to modify the script to enable **autologging** with MLflow, execute the script and then launch the MLflow UI to check that the experiment run was properly tracked.\n",
    "\n",
    "Tip 1: don't forget to wrap the training code with a `with mlflow.start_run():` statement as we showed in the videos.\n",
    "\n",
    "Tip 2: don't modify the hyperparameters of the model to make sure that the training will finish quickly.\n",
    "\n",
    "What is the value of the `min_samples_split` parameter:\n",
    "\n",
    "* 2\n",
    "* 4\n",
    "* 8\n",
    "* 10"
   ],
   "id": "2888c752878667e5"
  },
  {
   "metadata": {
    "ExecuteTime": {
     "end_time": "2025-05-27T08:01:18.841071Z",
     "start_time": "2025-05-27T08:01:18.505368Z"
    }
   },
   "cell_type": "code",
   "source": [
    "home_path_str = Path.home()\n",
    "backend_store_uri = f'sqlite:///{home_path_str}/mlflow/backend/mlflow.db'\n",
    "artifact_location = f'file:{home_path_str}/mlflow/mlruns'\n",
    "\n",
    "# Setting backend store\n",
    "mlflow.set_tracking_uri(uri=backend_store_uri)\n",
    "\n",
    "# Setting experiment configuration (name and artifact location)\n",
    "experiment_name = \"homework2-experiment\"\n",
    "experiment = mlflow.get_experiment_by_name(experiment_name)\n",
    "\n",
    "if experiment is None:\n",
    "    experiment_id = mlflow.create_experiment(\n",
    "        name=experiment_name,\n",
    "        artifact_location=artifact_location\n",
    "    )\n",
    "mlflow.set_experiment(experiment_name=experiment_name)"
   ],
   "id": "917f50a1314b75f4",
   "outputs": [
    {
     "data": {
      "text/plain": [
       "<Experiment: artifact_location='file:/home/jxareas/mlflow/mlruns', creation_time=1748332878823, experiment_id='3', last_update_time=1748332878823, lifecycle_stage='active', name='homework2-experiment', tags={}>"
      ]
     },
     "execution_count": 15,
     "metadata": {},
     "output_type": "execute_result"
    }
   ],
   "execution_count": 15
  },
  {
   "metadata": {
    "ExecuteTime": {
     "end_time": "2025-05-27T08:15:32.619271Z",
     "start_time": "2025-05-27T08:15:19.391939Z"
    }
   },
   "cell_type": "code",
   "source": "%run train.py",
   "id": "b5c6c0b3127efab2",
   "outputs": [],
   "execution_count": 24
  },
  {
   "metadata": {},
   "cell_type": "markdown",
   "source": [
    "**Homework 2 Random Forest Logged Params** (with `min_samples_split`):\n",
    "\n",
    "![](../images/hw2-rf-logged-params.png)\n",
    "\n",
    "Hence, the value for `min_samples_split` is 2, as shown in the image."
   ],
   "id": "30ecd5e787bbc7bc"
  },
  {
   "metadata": {},
   "cell_type": "markdown",
   "source": [
    "## Q4. Launch the tracking server locally\n",
    "\n",
    "Now we want to manage the entire lifecycle of our ML model. In this step, you'll need to launch a tracking server. This way we will also have access to the model registry.\n",
    "\n",
    "Your task is to:\n",
    "\n",
    "* launch the tracking server on your local machine,\n",
    "* select a SQLite db for the backend store and a folder called `artifacts` for the artifacts store.\n",
    "\n",
    "You should keep the tracking server running to work on the next two exercises that use the server.\n",
    "\n",
    "In addition to `backend-store-uri`, what else do you need to pass to properly configure the server?\n",
    "\n",
    "* `default-artifact-root`\n",
    "* `serve-artifacts`\n",
    "* `artifacts-only`\n",
    "* `artifacts-destination`"
   ],
   "id": "dc482a270e64e011"
  },
  {
   "metadata": {},
   "cell_type": "markdown",
   "source": [
    "The `default-artifact-root`, as shown by script\n",
    "```bash\n",
    "BACKEND_STORE_URI=\"sqlite:///$HOME/mlflow/backend/mlflow.db\"\n",
    "ARTIFACT_ROOT=\"$HOME/mlflow/artifacts\"\n",
    "\n",
    "# Start MLflow UI\n",
    "mlflow ui \\\n",
    "  --backend-store-uri \"$BACKEND_STORE_URI\" \\\n",
    "  --default-artifact-root \"$ARTIFACT_ROOT\"\n",
    "```"
   ],
   "id": "8f3c2ff5431c8f74"
  },
  {
   "metadata": {},
   "cell_type": "markdown",
   "source": [
    "## Q5. Tune model hyperparameters\n",
    "\n",
    "Now let's try to reduce the validation error by tuning the hyperparameters of the `RandomForestRegressor` using `hyperopt`.\n",
    "We have prepared the script `hpo.py` for this exercise.\n",
    "\n",
    "Your task is to modify the script `hpo.py` and make sure that the validation RMSE is logged to the tracking server for each run of the hyperparameter optimization (you will need to add a few lines of code to the `objective` function) and run the script without passing any parameters.\n",
    "\n",
    "After that, open UI and explore the runs from the experiment called `random-forest-hyperopt` to answer the question below.\n",
    "\n",
    "Note: Don't use autologging for this exercise.\n",
    "\n",
    "The idea is to just log the information that you need to answer the question below, including:\n",
    "\n",
    "* the list of hyperparameters that are passed to the `objective` function during the optimization,\n",
    "* the RMSE obtained on the validation set (February 2023 data).\n",
    "\n",
    "What's the best validation RMSE that you got?\n",
    "\n",
    "* 4.817\n",
    "* 5.335\n",
    "* 5.818\n",
    "* 6.336\n"
   ],
   "id": "a3fba67d77be5fbe"
  },
  {
   "metadata": {
    "ExecuteTime": {
     "end_time": "2025-05-27T08:30:54.372444Z",
     "start_time": "2025-05-27T08:29:48.318122Z"
    }
   },
   "cell_type": "code",
   "source": "%run hpo.py",
   "id": "aeecf7a3a8d36ef6",
   "outputs": [
    {
     "name": "stdout",
     "output_type": "stream",
     "text": [
      "🏃 View run handsome-hog-164 at: http://127.0.0.1:5000/#/experiments/4/runs/95c51a788e4b4896943c27583bbe9228\n",
      "\n",
      "🧪 View experiment at: http://127.0.0.1:5000/#/experiments/4\n",
      "\n",
      "🏃 View run salty-dove-789 at: http://127.0.0.1:5000/#/experiments/4/runs/89e6bfcb410f4559ace61881fdfe052f\n",
      "\n",
      "🧪 View experiment at: http://127.0.0.1:5000/#/experiments/4                   \n",
      "\n",
      "🏃 View run fun-boar-141 at: http://127.0.0.1:5000/#/experiments/4/runs/cdb8de5f8aa540fbaaba9b4739d980a0\n",
      "\n",
      "🧪 View experiment at: http://127.0.0.1:5000/#/experiments/4                   \n",
      "\n",
      "🏃 View run sincere-shoat-605 at: http://127.0.0.1:5000/#/experiments/4/runs/9102bd5902c74f2fbc2dad64d6f66325\n",
      "\n",
      "🧪 View experiment at: http://127.0.0.1:5000/#/experiments/4                   \n",
      "\n",
      "🏃 View run legendary-gnat-4 at: http://127.0.0.1:5000/#/experiments/4/runs/27c4bed41e484af18a05de0bd22d9745\n",
      "\n",
      "🧪 View experiment at: http://127.0.0.1:5000/#/experiments/4                   \n",
      "\n",
      "🏃 View run valuable-fish-486 at: http://127.0.0.1:5000/#/experiments/4/runs/0cb8efd9b9d547b7a8fc09f30f4f9d59\n",
      "\n",
      "🧪 View experiment at: http://127.0.0.1:5000/#/experiments/4                   \n",
      "\n",
      "🏃 View run classy-shark-413 at: http://127.0.0.1:5000/#/experiments/4/runs/2a539f87b32849119854f21c7b28702b\n",
      "\n",
      "🧪 View experiment at: http://127.0.0.1:5000/#/experiments/4                   \n",
      "\n",
      "🏃 View run languid-grouse-723 at: http://127.0.0.1:5000/#/experiments/4/runs/1622a51c3ba744bd8e24c5ea45b0f24f\n",
      "\n",
      "🧪 View experiment at: http://127.0.0.1:5000/#/experiments/4                   \n",
      "\n",
      "🏃 View run colorful-hound-531 at: http://127.0.0.1:5000/#/experiments/4/runs/b5e7c2743c744f24bebd6d4bbbf130a3\n",
      "\n",
      "🧪 View experiment at: http://127.0.0.1:5000/#/experiments/4                   \n",
      "\n",
      "🏃 View run invincible-skink-362 at: http://127.0.0.1:5000/#/experiments/4/runs/ec874a20abd1443f82df5fbd8c7f2d58\n",
      "\n",
      "🧪 View experiment at: http://127.0.0.1:5000/#/experiments/4                   \n",
      "\n",
      "🏃 View run gentle-conch-480 at: http://127.0.0.1:5000/#/experiments/4/runs/05b627c425d84520b69e7a083141ea7e\n",
      "\n",
      "🧪 View experiment at: http://127.0.0.1:5000/#/experiments/4                    \n",
      "\n",
      "🏃 View run bright-skink-94 at: http://127.0.0.1:5000/#/experiments/4/runs/c10290eb3def465f8ec1f2b928a3ba34\n",
      "\n",
      "🧪 View experiment at: http://127.0.0.1:5000/#/experiments/4                    \n",
      "\n",
      "🏃 View run whimsical-moth-602 at: http://127.0.0.1:5000/#/experiments/4/runs/fca73377867044ab916491c3f92cc46e\n",
      "\n",
      "🧪 View experiment at: http://127.0.0.1:5000/#/experiments/4                    \n",
      "\n",
      "🏃 View run upset-cod-956 at: http://127.0.0.1:5000/#/experiments/4/runs/b9647a36baa34d278b39110f09ad843c\n",
      "\n",
      "🧪 View experiment at: http://127.0.0.1:5000/#/experiments/4                    \n",
      "\n",
      "🏃 View run treasured-crab-531 at: http://127.0.0.1:5000/#/experiments/4/runs/514727f14dc84e1a887f5663c38c661f\n",
      "\n",
      "🧪 View experiment at: http://127.0.0.1:5000/#/experiments/4                    \n",
      "\n",
      "100%|██████████| 15/15 [01:06<00:00,  4.40s/trial, best loss: 5.335419588556921]\n"
     ]
    }
   ],
   "execution_count": 9
  },
  {
   "metadata": {},
   "cell_type": "markdown",
   "source": [
    "Random Forest HyperOpt Descending RMSE:\n",
    "\n",
    "![](../images/hw2-rf-hyperopt-desc-rmse.png)\n",
    "\n",
    "The best validation RMSE gotten in the trials is `5.335`."
   ],
   "id": "7c15d8c8b33e03c5"
  },
  {
   "metadata": {},
   "cell_type": "markdown",
   "source": [
    "## Q6. Promote the best model to the model registry\n",
    "\n",
    "The results from the hyperparameter optimization are quite good. So, we can assume that we are ready to test some of these models in production.\n",
    "In this exercise, you'll promote the best model to the model registry. We have prepared a script called `register_model.py`, which will check the results from the previous step and select the top 5 runs.\n",
    "After that, it will calculate the RMSE of those models on the test set (March 2023 data) and save the results to a new experiment called `random-forest-best-models`.\n",
    "\n",
    "Your task is to update the script `register_model.py` so that it selects the model with the lowest RMSE on the test set and registers it to the model registry.\n",
    "\n",
    "Tip 1: you can use the method `search_runs` from the `MlflowClient` to get the model with the lowest RMSE,\n",
    "\n",
    "Tip 2: to register the model you can use the method `mlflow.register_model` and you will need to pass the right `model_uri` in the form of a string that looks like this: `\"runs:/<RUN_ID>/model\"`, and the name of the model (make sure to choose a good one!).\n",
    "\n",
    "What is the test RMSE of the best model?\n",
    "\n",
    "* 5.060\n",
    "* 5.567\n",
    "* 6.061\n",
    "* 6.568"
   ],
   "id": "56d8c528185363a0"
  },
  {
   "metadata": {
    "ExecuteTime": {
     "end_time": "2025-05-27T08:41:31.390061Z",
     "start_time": "2025-05-27T08:40:36.050160Z"
    }
   },
   "cell_type": "code",
   "source": "%run register_model.py",
   "id": "8160cd79775c81cf",
   "outputs": [
    {
     "name": "stderr",
     "output_type": "stream",
     "text": [
      "2025/05/27 02:40:36 INFO mlflow.tracking.fluent: Experiment with name 'random-forest-best-models' does not exist. Creating a new experiment.\n"
     ]
    },
    {
     "name": "stdout",
     "output_type": "stream",
     "text": [
      "🏃 View run welcoming-wren-173 at: http://127.0.0.1:5000/#/experiments/5/runs/b08ba25ef4604a8e89d445786475dadf\n",
      "🧪 View experiment at: http://127.0.0.1:5000/#/experiments/5\n",
      "🏃 View run placid-mare-695 at: http://127.0.0.1:5000/#/experiments/5/runs/6085cc78cfc94202accb56f8bc649007\n",
      "🧪 View experiment at: http://127.0.0.1:5000/#/experiments/5\n",
      "🏃 View run lyrical-pug-814 at: http://127.0.0.1:5000/#/experiments/5/runs/bdc2e9cef16d42c4815493f4bdaf1b00\n",
      "🧪 View experiment at: http://127.0.0.1:5000/#/experiments/5\n",
      "🏃 View run nervous-rat-246 at: http://127.0.0.1:5000/#/experiments/5/runs/69dc6c32447841e08f89b6f163cd9c15\n",
      "🧪 View experiment at: http://127.0.0.1:5000/#/experiments/5\n"
     ]
    },
    {
     "name": "stderr",
     "output_type": "stream",
     "text": [
      "Successfully registered model 'random-forest-model'.\n",
      "2025/05/27 02:41:31 INFO mlflow.store.model_registry.abstract_store: Waiting up to 300 seconds for model version to finish creation. Model name: random-forest-model, version 1\n"
     ]
    },
    {
     "name": "stdout",
     "output_type": "stream",
     "text": [
      "🏃 View run stylish-zebra-547 at: http://127.0.0.1:5000/#/experiments/5/runs/93349ec6e3b240dcb8c3b269c64d925f\n",
      "🧪 View experiment at: http://127.0.0.1:5000/#/experiments/5\n"
     ]
    },
    {
     "name": "stderr",
     "output_type": "stream",
     "text": [
      "Created version '1' of model 'random-forest-model'.\n"
     ]
    }
   ],
   "execution_count": 11
  },
  {
   "metadata": {},
   "cell_type": "markdown",
   "source": [
    "![](../images/hw2-rf-best-models-test-rmse.png)\n",
    "\n",
    "Test RMSE for the selected Random Forest model is `5.57`."
   ],
   "id": "f254a5b1c55a0cca"
  }
 ],
 "metadata": {},
 "nbformat": 4,
 "nbformat_minor": 5
}
