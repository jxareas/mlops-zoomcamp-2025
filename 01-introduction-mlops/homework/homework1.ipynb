{
 "cells": [
  {
   "metadata": {
    "ExecuteTime": {
     "end_time": "2025-05-20T09:41:57.743135Z",
     "start_time": "2025-05-20T09:41:56.440036Z"
    }
   },
   "cell_type": "code",
   "source": [
    "import polars as pl\n",
    "from sklearn.feature_extraction import DictVectorizer\n",
    "from sklearn.linear_model import LinearRegression\n",
    "from sklearn.metrics import root_mean_squared_error\n",
    "\n",
    "TRAIN_DATA_FILE_PATH = 'https://d37ci6vzurychx.cloudfront.net/trip-data/yellow_tripdata_2023-01.parquet'\n",
    "VAL_DATA_FILE_PATH = 'https://d37ci6vzurychx.cloudfront.net/trip-data/yellow_tripdata_2023-02.parquet'"
   ],
   "id": "a9e60bb476ba9763",
   "outputs": [],
   "execution_count": 1
  },
  {
   "metadata": {},
   "cell_type": "markdown",
   "source": [
    "## Question 1 - Downloading the data\n",
    "\n",
    "We'll use the same NYC taxi dataset, but instead of \"Green Taxi Trip Records\", we'll use \"Yellow Taxi Trip Records\".\n",
    "\n",
    "Download the data for January and February 2023.\n",
    "\n",
    "Read the data for January. How many columns are there?\n",
    "\n",
    "* 16\n",
    "* 17\n",
    "* 18\n",
    "* **19**"
   ],
   "id": "de8bc92c46a070d2"
  },
  {
   "metadata": {
    "ExecuteTime": {
     "end_time": "2025-05-20T09:42:05.264140Z",
     "start_time": "2025-05-20T09:41:57.847822Z"
    }
   },
   "cell_type": "code",
   "source": "jan_df = pl.read_parquet(source=TRAIN_DATA_FILE_PATH)",
   "id": "554483b9355b9593",
   "outputs": [],
   "execution_count": 2
  },
  {
   "metadata": {
    "ExecuteTime": {
     "end_time": "2025-05-20T09:42:05.279504Z",
     "start_time": "2025-05-20T09:42:05.274816Z"
    }
   },
   "cell_type": "code",
   "source": "len(jan_df.columns)",
   "id": "7923f3c64b7ce3d5",
   "outputs": [
    {
     "data": {
      "text/plain": [
       "19"
      ]
     },
     "execution_count": 3,
     "metadata": {},
     "output_type": "execute_result"
    }
   ],
   "execution_count": 3
  },
  {
   "metadata": {},
   "cell_type": "markdown",
   "source": "There is a total of 19 columns in the January 2023 dataset.",
   "id": "b5cb8decaa966361"
  },
  {
   "metadata": {},
   "cell_type": "markdown",
   "source": [
    "## Question 2 - Computing duration\n",
    "\n",
    "Now let's compute the `duration` variable. It should contain the duration of a ride in minutes.\n",
    "\n",
    "What's the standard deviation of the trips duration in January?\n",
    "\n",
    "* 32.59\n",
    "* **42.59**\n",
    "* 52.59\n",
    "* 62.59"
   ],
   "id": "42c6abcdaafdcf91"
  },
  {
   "metadata": {
    "ExecuteTime": {
     "end_time": "2025-05-20T09:42:05.348515Z",
     "start_time": "2025-05-20T09:42:05.322018Z"
    }
   },
   "cell_type": "code",
   "source": [
    "jan_df = jan_df.with_columns(\n",
    "    (pl.col(\"tpep_dropoff_datetime\") - pl.col(\"tpep_pickup_datetime\"))\n",
    "    .dt.total_minutes()\n",
    "    .alias(\"duration_minutes\")\n",
    ")"
   ],
   "id": "be5df68e93554bcc",
   "outputs": [],
   "execution_count": 4
  },
  {
   "metadata": {
    "ExecuteTime": {
     "end_time": "2025-05-20T09:42:05.379890Z",
     "start_time": "2025-05-20T09:42:05.370633Z"
    }
   },
   "cell_type": "code",
   "source": "jan_df['duration_minutes'].std()",
   "id": "9a92c34d1598090",
   "outputs": [
    {
     "data": {
      "text/plain": [
       "42.59449915808725"
      ]
     },
     "execution_count": 5,
     "metadata": {},
     "output_type": "execute_result"
    }
   ],
   "execution_count": 5
  },
  {
   "metadata": {},
   "cell_type": "markdown",
   "source": "Standard deviation for the `duration_minutes` variable is 42.59.",
   "id": "df60b68b7f9516ee"
  },
  {
   "metadata": {},
   "cell_type": "markdown",
   "source": [
    "## Question 3 - Dropping Outliers\n",
    "\n",
    "Next, we need to check the distribution of the `duration` variable. There are some outliers. Let's remove them and keep\n",
    "only the records where the duration was between 1 and 60 minutes (inclusive).\n",
    "\n",
    "What fraction of the records is left after you dropped the outliers?\n",
    "\n",
    "* 90%\n",
    "* 92%\n",
    "* 95%\n",
    "* **98%**"
   ],
   "id": "3571b64f5ec89794"
  },
  {
   "metadata": {
    "ExecuteTime": {
     "end_time": "2025-05-20T09:42:05.482592Z",
     "start_time": "2025-05-20T09:42:05.420574Z"
    }
   },
   "cell_type": "code",
   "source": [
    "new_jan_df = jan_df.filter(\n",
    "    (pl.col(\"duration_minutes\") >= 1) &\n",
    "    (pl.col(\"duration_minutes\") <= 60)\n",
    ")"
   ],
   "id": "f5eef09373d3709a",
   "outputs": [],
   "execution_count": 6
  },
  {
   "metadata": {
    "ExecuteTime": {
     "end_time": "2025-05-20T09:42:05.493372Z",
     "start_time": "2025-05-20T09:42:05.490265Z"
    }
   },
   "cell_type": "code",
   "source": "len(new_jan_df) / len(jan_df)",
   "id": "8a3bd01af3634737",
   "outputs": [
    {
     "data": {
      "text/plain": [
       "0.9818303711466737"
      ]
     },
     "execution_count": 7,
     "metadata": {},
     "output_type": "execute_result"
    }
   ],
   "execution_count": 7
  },
  {
   "metadata": {},
   "cell_type": "markdown",
   "source": "There is 98% of the original data left after dropping outliers.",
   "id": "6c556ea0c2f24567"
  },
  {
   "metadata": {},
   "cell_type": "markdown",
   "source": [
    "## Question 4 - One-hot encoding\n",
    "\n",
    "Let's apply one-hot encoding to the pickup and dropoff location IDs. We'll use only these two features for our model.\n",
    "\n",
    "* Turn the dataframe into a list of dictionaries (remember to re-cast the ids to strings - otherwise it will\n",
    "  label encode them)\n",
    "* Fit a dictionary vectorizer\n",
    "* Get a feature matrix from it\n",
    "\n",
    "What's the dimensionality of this matrix (number of columns)?\n",
    "\n",
    "* 2\n",
    "* 155\n",
    "* 345\n",
    "* 515\n",
    "* 715"
   ],
   "id": "515f465cfa8ec8a0"
  },
  {
   "metadata": {
    "ExecuteTime": {
     "end_time": "2025-05-20T09:42:05.635666Z",
     "start_time": "2025-05-20T09:42:05.558792Z"
    }
   },
   "cell_type": "code",
   "source": [
    "feature_vars = ['PULocationID', 'DOLocationID']\n",
    "train_df = new_jan_df.select(feature_vars).with_columns(\n",
    "    pl.col(feature_vars).cast(pl.String)\n",
    ")"
   ],
   "id": "9009e2aca122c787",
   "outputs": [],
   "execution_count": 8
  },
  {
   "metadata": {
    "ExecuteTime": {
     "end_time": "2025-05-20T09:42:19.758976Z",
     "start_time": "2025-05-20T09:42:05.644698Z"
    }
   },
   "cell_type": "code",
   "source": [
    "dv = DictVectorizer(sparse=False)\n",
    "\n",
    "train_dicts = train_df.to_pandas().to_dict(orient='records')\n",
    "X_train = dv.fit_transform(train_dicts)"
   ],
   "id": "68411a132d21572f",
   "outputs": [],
   "execution_count": 9
  },
  {
   "metadata": {
    "ExecuteTime": {
     "end_time": "2025-05-20T09:42:19.780013Z",
     "start_time": "2025-05-20T09:42:19.776689Z"
    }
   },
   "cell_type": "code",
   "source": "X_train.shape",
   "id": "183801156ea0de92",
   "outputs": [
    {
     "data": {
      "text/plain": [
       "(3011044, 515)"
      ]
     },
     "execution_count": 10,
     "metadata": {},
     "output_type": "execute_result"
    }
   ],
   "execution_count": 10
  },
  {
   "metadata": {},
   "cell_type": "markdown",
   "source": "There is 515 total number of columns for `X_train`.",
   "id": "e361ecaadaa94cdd"
  },
  {
   "metadata": {},
   "cell_type": "markdown",
   "source": [
    "## Question 5 - Training a model\n",
    "\n",
    "Now let's use the feature matrix from the previous step to train a model.\n",
    "\n",
    "* Train a plain linear regression model with default parameters, where duration is the response variable\n",
    "* Calculate the RMSE of the model on the training data\n",
    "\n",
    "What's the RMSE on train?\n",
    "\n",
    "* 3.64\n",
    "* 7.64\n",
    "* 11.64\n",
    "* 16.64"
   ],
   "id": "331324ce0a64e687"
  },
  {
   "metadata": {
    "ExecuteTime": {
     "end_time": "2025-05-20T09:42:19.843576Z",
     "start_time": "2025-05-20T09:42:19.826154Z"
    }
   },
   "cell_type": "code",
   "source": [
    "target_var = 'duration_minutes'\n",
    "train_vector = new_jan_df[target_var]\n",
    "y_train = train_vector.to_numpy()"
   ],
   "id": "643db2a59a47812",
   "outputs": [],
   "execution_count": 11
  },
  {
   "metadata": {
    "jupyter": {
     "is_executing": true
    },
    "ExecuteTime": {
     "start_time": "2025-05-20T09:42:31.862433Z"
    }
   },
   "cell_type": "code",
   "source": [
    "lr = LinearRegression(n_jobs=8)\n",
    "lr.fit(X_train, y_train)"
   ],
   "id": "b9f43304333815ca",
   "outputs": [],
   "execution_count": null
  },
  {
   "metadata": {},
   "cell_type": "code",
   "outputs": [],
   "execution_count": null,
   "source": [
    "y_pred = lr.predict(X_train)\n",
    "\n",
    "root_mean_squared_error(y_train, y_pred)"
   ],
   "id": "d0524aeeed1018d7"
  },
  {
   "metadata": {},
   "cell_type": "markdown",
   "source": [
    "## Question 6 - Evaluating the model\n",
    "\n",
    "Now let's apply this model to the validation dataset (February 2023).\n",
    "\n",
    "What's the RMSE on validation?\n",
    "\n",
    "* 3.81\n",
    "* 7.81\n",
    "* 11.81\n",
    "* 16.81"
   ],
   "id": "d8f8630bee58e608"
  },
  {
   "metadata": {},
   "cell_type": "code",
   "outputs": [],
   "execution_count": null,
   "source": [
    "feb_df = pl.read_parquet(source=VAL_DATA_FILE_PATH)\n",
    "\n",
    "feb_df = feb_df.with_columns(\n",
    "    (pl.col(\"tpep_dropoff_datetime\") - pl.col(\"tpep_pickup_datetime\"))\n",
    "    .dt.total_minutes()\n",
    "    .alias(\"duration_minutes\")\n",
    ")"
   ],
   "id": "6af6c326f5cbaa2d"
  },
  {
   "metadata": {},
   "cell_type": "code",
   "outputs": [],
   "execution_count": null,
   "source": [
    "val_df = feb_df.select(feature_vars).with_columns(\n",
    "    pl.col(feature_vars).cast(pl.String)\n",
    ")\n",
    "\n",
    "val_dicts = val_df.to_pandas().to_dict(orient='records')\n",
    "X_val = dv.transform(val_dicts)"
   ],
   "id": "156e227714b82ded"
  },
  {
   "metadata": {},
   "cell_type": "code",
   "outputs": [],
   "execution_count": null,
   "source": "y_val = val_df[target_var].to_numpy()",
   "id": "f835cfb13ab6b570"
  },
  {
   "metadata": {},
   "cell_type": "code",
   "outputs": [],
   "execution_count": null,
   "source": [
    "y_pred = lr.predict(X_val)\n",
    "\n",
    "root_mean_squared_error(y_val, y_pred)"
   ],
   "id": "1151e4f8f953e6f0"
  }
 ],
 "metadata": {},
 "nbformat": 4,
 "nbformat_minor": 5
}
