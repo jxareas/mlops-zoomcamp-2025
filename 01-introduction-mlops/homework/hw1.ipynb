{
 "cells": [
  {
   "metadata": {
    "ExecuteTime": {
     "end_time": "2025-05-19T23:15:54.484973Z",
     "start_time": "2025-05-19T23:15:53.800956Z"
    }
   },
   "cell_type": "code",
   "source": [
    "import numpy as np\n",
    "import pandas as pd\n",
    "\n",
    "from sklearn.feature_extraction import DictVectorizer\n",
    "from sklearn.linear_model import LinearRegression\n",
    "from sklearn.linear_model import Lasso\n",
    "from sklearn.linear_model import Ridge\n",
    "\n",
    "from sklearn.metrics import mean_squared_error"
   ],
   "id": "e457d0de2f4cab85",
   "outputs": [],
   "execution_count": 1
  },
  {
   "metadata": {
    "ExecuteTime": {
     "end_time": "2025-05-19T23:31:59.617063Z",
     "start_time": "2025-05-19T23:31:59.613162Z"
    }
   },
   "cell_type": "code",
   "source": [
    "def read_data_set(file_path: str) -> pd.DataFrame:\n",
    "    \"\"\"Load and preprocess taxi trip data from CSV or Parquet file.\n",
    "\n",
    "    Args:\n",
    "        file_path: Path to input file (must be .csv or .parquet)\n",
    "\n",
    "    Returns:\n",
    "        Preprocessed DataFrame with:\n",
    "        - Valid trip durations (1-60 minutes)\n",
    "        - Categorical location IDs as strings\n",
    "    \"\"\"\n",
    "    reader = pd.read_csv if file_path.endswith('.csv') else pd.read_parquet\n",
    "    df = reader(file_path)\n",
    "\n",
    "    # Calculate and filter duration\n",
    "    df['duration'] = (df['tpep_dropoff_datetime'] - df['tpep_pickup_datetime']).dt.total_seconds() / 60\n",
    "    df = df[df['duration'].between(1, 60)]\n",
    "\n",
    "    # Convert to categorical\n",
    "    df[['PULocationID', 'DOLocationID']] = df[['PULocationID', 'DOLocationID']].astype(str)\n",
    "\n",
    "    return df"
   ],
   "id": "9a6f3becc074774b",
   "outputs": [],
   "execution_count": 33
  },
  {
   "metadata": {
    "ExecuteTime": {
     "end_time": "2025-05-19T23:15:59.607192Z",
     "start_time": "2025-05-19T23:15:58.518717Z"
    }
   },
   "cell_type": "code",
   "source": "df = pd.read_parquet('yellow_tripdata_2023-01.parquet')",
   "id": "3b84856b35a032c0",
   "outputs": [],
   "execution_count": 2
  },
  {
   "metadata": {
    "ExecuteTime": {
     "end_time": "2025-05-19T23:19:18.454615Z",
     "start_time": "2025-05-19T23:19:18.450889Z"
    }
   },
   "cell_type": "code",
   "source": [
    "# Q1 : TOTAL NUMBER OF COLUMNS\n",
    "len(df.columns)"
   ],
   "id": "7f9f2cd7c03310f3",
   "outputs": [
    {
     "data": {
      "text/plain": [
       "19"
      ]
     },
     "execution_count": 8,
     "metadata": {},
     "output_type": "execute_result"
    }
   ],
   "execution_count": 8
  },
  {
   "metadata": {
    "ExecuteTime": {
     "end_time": "2025-05-19T23:21:21.252064Z",
     "start_time": "2025-05-19T23:21:21.167054Z"
    }
   },
   "cell_type": "code",
   "source": [
    "# Q2: COMPUTING DURATION\n",
    "df['duration'] = (df['tpep_dropoff_datetime'] - df['tpep_pickup_datetime']).dt.total_seconds() / 60\n",
    "df['duration'].std()"
   ],
   "id": "c06077859fe28b5d",
   "outputs": [
    {
     "data": {
      "text/plain": [
       "np.float64(42.59435124195458)"
      ]
     },
     "execution_count": 12,
     "metadata": {},
     "output_type": "execute_result"
    }
   ],
   "execution_count": 12
  },
  {
   "metadata": {
    "ExecuteTime": {
     "end_time": "2025-05-19T23:22:35.817249Z",
     "start_time": "2025-05-19T23:22:35.663372Z"
    }
   },
   "cell_type": "code",
   "source": [
    "# Q3: OUTLIERS\n",
    "df_no_outliers = df[(df['duration'] >= 1) & (df['duration'] <= 60)]\n",
    "df_no_outliers.shape[0] / df.shape[0]"
   ],
   "id": "f1e6dad8e1b6f00c",
   "outputs": [
    {
     "data": {
      "text/plain": [
       "0.9812202822125979"
      ]
     },
     "execution_count": 14,
     "metadata": {},
     "output_type": "execute_result"
    }
   ],
   "execution_count": 14
  },
  {
   "metadata": {
    "ExecuteTime": {
     "end_time": "2025-05-19T23:28:38.227603Z",
     "start_time": "2025-05-19T23:28:29.136757Z"
    }
   },
   "cell_type": "code",
   "source": [
    "# Q4: ONE-HOT ENCODING\n",
    "categorical = ['PULocationID', 'DOLocationID']\n",
    "\n",
    "df_no_outliers[categorical] = df_no_outliers[categorical].astype(str)\n",
    "\n",
    "train_dicts = df_no_outliers[categorical].to_dict(orient='records')\n",
    "\n",
    "dv = DictVectorizer()\n",
    "X_train = dv.fit_transform(train_dicts)"
   ],
   "id": "be2e7e3d316278ec",
   "outputs": [
    {
     "name": "stderr",
     "output_type": "stream",
     "text": [
      "/tmp/ipykernel_26979/3979711434.py:4: SettingWithCopyWarning: \n",
      "A value is trying to be set on a copy of a slice from a DataFrame.\n",
      "Try using .loc[row_indexer,col_indexer] = value instead\n",
      "\n",
      "See the caveats in the documentation: https://pandas.pydata.org/pandas-docs/stable/user_guide/indexing.html#returning-a-view-versus-a-copy\n",
      "  df_no_outliers[categorical] = df_no_outliers[categorical].astype(str)\n"
     ]
    }
   ],
   "execution_count": 23
  },
  {
   "metadata": {
    "ExecuteTime": {
     "end_time": "2025-05-19T23:25:15.064732Z",
     "start_time": "2025-05-19T23:25:15.057022Z"
    }
   },
   "cell_type": "code",
   "source": [
    "# Q4: ONE-HOT ENCODING\n",
    "X_train.shape"
   ],
   "id": "840d0ab6d54ea9df",
   "outputs": [
    {
     "data": {
      "text/plain": [
       "(3009173, 515)"
      ]
     },
     "execution_count": 21,
     "metadata": {},
     "output_type": "execute_result"
    }
   ],
   "execution_count": 21
  },
  {
   "metadata": {
    "ExecuteTime": {
     "end_time": "2025-05-19T23:28:29.068313Z",
     "start_time": "2025-05-19T23:27:43.297027Z"
    }
   },
   "cell_type": "code",
   "source": [
    "## Q5: TRAINING MODEL\n",
    "from sklearn.metrics import root_mean_squared_error\n",
    "\n",
    "target = 'duration'\n",
    "y_train = df_no_outliers[target].values\n",
    "\n",
    "lr = LinearRegression()\n",
    "lr.fit(X_train, y_train)\n",
    "\n",
    "y_pred = lr.predict(X_train)\n",
    "\n",
    "root_mean_squared_error(y_train, y_pred)"
   ],
   "id": "5d9dd8d095ee7367",
   "outputs": [
    {
     "data": {
      "text/plain": [
       "7.649261931416412"
      ]
     },
     "execution_count": 22,
     "metadata": {},
     "output_type": "execute_result"
    }
   ],
   "execution_count": 22
  },
  {
   "metadata": {
    "ExecuteTime": {
     "end_time": "2025-05-19T23:32:12.005963Z",
     "start_time": "2025-05-19T23:32:02.925743Z"
    }
   },
   "cell_type": "code",
   "source": [
    "## Q6: RMSE VALIDATION\n",
    "df_val = read_data_set('yellow_tripdata_2023-02.parquet')"
   ],
   "id": "ea0fb9a035ed4cd",
   "outputs": [],
   "execution_count": 34
  },
  {
   "metadata": {
    "ExecuteTime": {
     "end_time": "2025-05-19T23:32:18.797360Z",
     "start_time": "2025-05-19T23:32:13.112830Z"
    }
   },
   "cell_type": "code",
   "source": [
    "val_dicts = df_val[categorical].to_dict(orient='records')\n",
    "X_val = dv.transform(val_dicts)"
   ],
   "id": "54c22d6e7ecd4599",
   "outputs": [],
   "execution_count": 35
  },
  {
   "metadata": {
    "ExecuteTime": {
     "end_time": "2025-05-19T23:32:20.215661Z",
     "start_time": "2025-05-19T23:32:20.212905Z"
    }
   },
   "cell_type": "code",
   "source": "y_val = df_val[target].values",
   "id": "2472fe989cc5bb2f",
   "outputs": [],
   "execution_count": 36
  },
  {
   "metadata": {},
   "cell_type": "code",
   "source": [
    "y_pred = lr.predict(X_val)\n",
    "\n",
    "root_mean_squared_error(y_val, y_pred)"
   ],
   "id": "80e60f5984e55f43",
   "outputs": [],
   "execution_count": null
  }
 ],
 "metadata": {
  "kernelspec": {
   "display_name": "Python 3",
   "language": "python",
   "name": "python3"
  },
  "language_info": {
   "codemirror_mode": {
    "name": "ipython",
    "version": 2
   },
   "file_extension": ".py",
   "mimetype": "text/x-python",
   "name": "python",
   "nbconvert_exporter": "python",
   "pygments_lexer": "ipython2",
   "version": "2.7.6"
  }
 },
 "nbformat": 4,
 "nbformat_minor": 5
}
